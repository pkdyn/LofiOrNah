{
 "cells": [
  {
   "cell_type": "code",
   "execution_count": 1,
   "metadata": {},
   "outputs": [],
   "source": [
    "import pandas as pd\n",
    "import numpy as np\n",
    "import seaborn as sns\n",
    "from matplotlib import pyplot as plt\n",
    "%matplotlib inline"
   ]
  },
  {
   "cell_type": "code",
   "execution_count": 2,
   "metadata": {},
   "outputs": [],
   "source": [
    "df = pd.read_csv('lofi.csv')"
   ]
  },
  {
   "cell_type": "code",
   "execution_count": 3,
   "metadata": {},
   "outputs": [
    {
     "data": {
      "text/html": [
       "<div>\n",
       "<style scoped>\n",
       "    .dataframe tbody tr th:only-of-type {\n",
       "        vertical-align: middle;\n",
       "    }\n",
       "\n",
       "    .dataframe tbody tr th {\n",
       "        vertical-align: top;\n",
       "    }\n",
       "\n",
       "    .dataframe thead th {\n",
       "        text-align: right;\n",
       "    }\n",
       "</style>\n",
       "<table border=\"1\" class=\"dataframe\">\n",
       "  <thead>\n",
       "    <tr style=\"text-align: right;\">\n",
       "      <th></th>\n",
       "      <th>BPM</th>\n",
       "      <th>ENERGY</th>\n",
       "      <th>DANCE</th>\n",
       "      <th>LOUD</th>\n",
       "      <th>VALENCE</th>\n",
       "      <th>LENS</th>\n",
       "      <th>ACOUSTIC</th>\n",
       "      <th>STAT</th>\n",
       "    </tr>\n",
       "  </thead>\n",
       "  <tbody>\n",
       "    <tr>\n",
       "      <th>0</th>\n",
       "      <td>216</td>\n",
       "      <td>14</td>\n",
       "      <td>40</td>\n",
       "      <td>-13</td>\n",
       "      <td>18</td>\n",
       "      <td>141.0</td>\n",
       "      <td>80</td>\n",
       "      <td>2</td>\n",
       "    </tr>\n",
       "    <tr>\n",
       "      <th>1</th>\n",
       "      <td>206</td>\n",
       "      <td>89</td>\n",
       "      <td>38</td>\n",
       "      <td>-9</td>\n",
       "      <td>80</td>\n",
       "      <td>247.0</td>\n",
       "      <td>3</td>\n",
       "      <td>1</td>\n",
       "    </tr>\n",
       "    <tr>\n",
       "      <th>2</th>\n",
       "      <td>204</td>\n",
       "      <td>41</td>\n",
       "      <td>62</td>\n",
       "      <td>-12</td>\n",
       "      <td>74</td>\n",
       "      <td>252.0</td>\n",
       "      <td>68</td>\n",
       "      <td>1</td>\n",
       "    </tr>\n",
       "    <tr>\n",
       "      <th>3</th>\n",
       "      <td>204</td>\n",
       "      <td>47</td>\n",
       "      <td>24</td>\n",
       "      <td>-8</td>\n",
       "      <td>39</td>\n",
       "      <td>205.0</td>\n",
       "      <td>31</td>\n",
       "      <td>1</td>\n",
       "    </tr>\n",
       "    <tr>\n",
       "      <th>4</th>\n",
       "      <td>203</td>\n",
       "      <td>64</td>\n",
       "      <td>26</td>\n",
       "      <td>-10</td>\n",
       "      <td>38</td>\n",
       "      <td>281.0</td>\n",
       "      <td>20</td>\n",
       "      <td>1</td>\n",
       "    </tr>\n",
       "  </tbody>\n",
       "</table>\n",
       "</div>"
      ],
      "text/plain": [
       "   BPM  ENERGY  DANCE  LOUD  VALENCE   LENS  ACOUSTIC  STAT\n",
       "0  216      14     40   -13       18  141.0        80     2\n",
       "1  206      89     38    -9       80  247.0         3     1\n",
       "2  204      41     62   -12       74  252.0        68     1\n",
       "3  204      47     24    -8       39  205.0        31     1\n",
       "4  203      64     26   -10       38  281.0        20     1"
      ]
     },
     "execution_count": 3,
     "metadata": {},
     "output_type": "execute_result"
    }
   ],
   "source": [
    "df.head()"
   ]
  },
  {
   "cell_type": "code",
   "execution_count": 4,
   "metadata": {},
   "outputs": [],
   "source": [
    "df.columns = df.columns.str.lower().str.replace(' ', '_') # A\n",
    "string_columns = list(df.dtypes[df.dtypes == 'object'].index) # B\n",
    "for col in string_columns:\n",
    "    df[col] = df[col].str.lower().str.replace(' ', '_') # C"
   ]
  },
  {
   "cell_type": "code",
   "execution_count": 5,
   "metadata": {},
   "outputs": [
    {
     "data": {
      "text/html": [
       "<div>\n",
       "<style scoped>\n",
       "    .dataframe tbody tr th:only-of-type {\n",
       "        vertical-align: middle;\n",
       "    }\n",
       "\n",
       "    .dataframe tbody tr th {\n",
       "        vertical-align: top;\n",
       "    }\n",
       "\n",
       "    .dataframe thead th {\n",
       "        text-align: right;\n",
       "    }\n",
       "</style>\n",
       "<table border=\"1\" class=\"dataframe\">\n",
       "  <thead>\n",
       "    <tr style=\"text-align: right;\">\n",
       "      <th></th>\n",
       "      <th>bpm</th>\n",
       "      <th>energy</th>\n",
       "      <th>dance</th>\n",
       "      <th>loud</th>\n",
       "      <th>valence</th>\n",
       "      <th>lens</th>\n",
       "      <th>acoustic</th>\n",
       "      <th>stat</th>\n",
       "    </tr>\n",
       "  </thead>\n",
       "  <tbody>\n",
       "    <tr>\n",
       "      <th>count</th>\n",
       "      <td>2896.0</td>\n",
       "      <td>2896.0</td>\n",
       "      <td>2896.0</td>\n",
       "      <td>2896.0</td>\n",
       "      <td>2896.0</td>\n",
       "      <td>2895.0</td>\n",
       "      <td>2896.0</td>\n",
       "      <td>2896.0</td>\n",
       "    </tr>\n",
       "    <tr>\n",
       "      <th>mean</th>\n",
       "      <td>114.0</td>\n",
       "      <td>44.0</td>\n",
       "      <td>60.0</td>\n",
       "      <td>-11.0</td>\n",
       "      <td>39.0</td>\n",
       "      <td>193.0</td>\n",
       "      <td>45.0</td>\n",
       "      <td>1.0</td>\n",
       "    </tr>\n",
       "    <tr>\n",
       "      <th>std</th>\n",
       "      <td>32.0</td>\n",
       "      <td>25.0</td>\n",
       "      <td>15.0</td>\n",
       "      <td>4.0</td>\n",
       "      <td>25.0</td>\n",
       "      <td>94.0</td>\n",
       "      <td>33.0</td>\n",
       "      <td>0.0</td>\n",
       "    </tr>\n",
       "    <tr>\n",
       "      <th>min</th>\n",
       "      <td>32.0</td>\n",
       "      <td>0.0</td>\n",
       "      <td>10.0</td>\n",
       "      <td>-29.0</td>\n",
       "      <td>3.0</td>\n",
       "      <td>55.0</td>\n",
       "      <td>0.0</td>\n",
       "      <td>1.0</td>\n",
       "    </tr>\n",
       "    <tr>\n",
       "      <th>25%</th>\n",
       "      <td>85.0</td>\n",
       "      <td>25.0</td>\n",
       "      <td>51.0</td>\n",
       "      <td>-14.0</td>\n",
       "      <td>18.0</td>\n",
       "      <td>120.0</td>\n",
       "      <td>13.0</td>\n",
       "      <td>1.0</td>\n",
       "    </tr>\n",
       "    <tr>\n",
       "      <th>50%</th>\n",
       "      <td>110.0</td>\n",
       "      <td>38.0</td>\n",
       "      <td>61.0</td>\n",
       "      <td>-11.0</td>\n",
       "      <td>33.0</td>\n",
       "      <td>179.0</td>\n",
       "      <td>44.0</td>\n",
       "      <td>1.0</td>\n",
       "    </tr>\n",
       "    <tr>\n",
       "      <th>75%</th>\n",
       "      <td>136.0</td>\n",
       "      <td>64.0</td>\n",
       "      <td>71.0</td>\n",
       "      <td>-8.0</td>\n",
       "      <td>56.0</td>\n",
       "      <td>249.0</td>\n",
       "      <td>77.0</td>\n",
       "      <td>2.0</td>\n",
       "    </tr>\n",
       "    <tr>\n",
       "      <th>max</th>\n",
       "      <td>216.0</td>\n",
       "      <td>100.0</td>\n",
       "      <td>96.0</td>\n",
       "      <td>-2.0</td>\n",
       "      <td>99.0</td>\n",
       "      <td>1412.0</td>\n",
       "      <td>99.0</td>\n",
       "      <td>2.0</td>\n",
       "    </tr>\n",
       "  </tbody>\n",
       "</table>\n",
       "</div>"
      ],
      "text/plain": [
       "          bpm  energy   dance    loud  valence    lens  acoustic    stat\n",
       "count  2896.0  2896.0  2896.0  2896.0   2896.0  2895.0    2896.0  2896.0\n",
       "mean    114.0    44.0    60.0   -11.0     39.0   193.0      45.0     1.0\n",
       "std      32.0    25.0    15.0     4.0     25.0    94.0      33.0     0.0\n",
       "min      32.0     0.0    10.0   -29.0      3.0    55.0       0.0     1.0\n",
       "25%      85.0    25.0    51.0   -14.0     18.0   120.0      13.0     1.0\n",
       "50%     110.0    38.0    61.0   -11.0     33.0   179.0      44.0     1.0\n",
       "75%     136.0    64.0    71.0    -8.0     56.0   249.0      77.0     2.0\n",
       "max     216.0   100.0    96.0    -2.0     99.0  1412.0      99.0     2.0"
      ]
     },
     "execution_count": 5,
     "metadata": {},
     "output_type": "execute_result"
    }
   ],
   "source": [
    "\n",
    "df.describe().round()"
   ]
  },
  {
   "cell_type": "code",
   "execution_count": 6,
   "metadata": {},
   "outputs": [
    {
     "data": {
      "text/html": [
       "<div>\n",
       "<style scoped>\n",
       "    .dataframe tbody tr th:only-of-type {\n",
       "        vertical-align: middle;\n",
       "    }\n",
       "\n",
       "    .dataframe tbody tr th {\n",
       "        vertical-align: top;\n",
       "    }\n",
       "\n",
       "    .dataframe thead th {\n",
       "        text-align: right;\n",
       "    }\n",
       "</style>\n",
       "<table border=\"1\" class=\"dataframe\">\n",
       "  <thead>\n",
       "    <tr style=\"text-align: right;\">\n",
       "      <th></th>\n",
       "      <th>bpm</th>\n",
       "      <th>energy</th>\n",
       "      <th>dance</th>\n",
       "      <th>loud</th>\n",
       "      <th>valence</th>\n",
       "      <th>lens</th>\n",
       "      <th>acoustic</th>\n",
       "      <th>stat</th>\n",
       "    </tr>\n",
       "  </thead>\n",
       "  <tbody>\n",
       "    <tr>\n",
       "      <th>47</th>\n",
       "      <td>180</td>\n",
       "      <td>23</td>\n",
       "      <td>38</td>\n",
       "      <td>-14</td>\n",
       "      <td>59</td>\n",
       "      <td>64.0</td>\n",
       "      <td>14</td>\n",
       "      <td>2</td>\n",
       "    </tr>\n",
       "    <tr>\n",
       "      <th>48</th>\n",
       "      <td>180</td>\n",
       "      <td>23</td>\n",
       "      <td>38</td>\n",
       "      <td>-14</td>\n",
       "      <td>59</td>\n",
       "      <td>64.0</td>\n",
       "      <td>14</td>\n",
       "      <td>2</td>\n",
       "    </tr>\n",
       "    <tr>\n",
       "      <th>49</th>\n",
       "      <td>180</td>\n",
       "      <td>23</td>\n",
       "      <td>38</td>\n",
       "      <td>-14</td>\n",
       "      <td>59</td>\n",
       "      <td>64.0</td>\n",
       "      <td>14</td>\n",
       "      <td>2</td>\n",
       "    </tr>\n",
       "    <tr>\n",
       "      <th>50</th>\n",
       "      <td>180</td>\n",
       "      <td>23</td>\n",
       "      <td>38</td>\n",
       "      <td>-14</td>\n",
       "      <td>59</td>\n",
       "      <td>64.0</td>\n",
       "      <td>14</td>\n",
       "      <td>2</td>\n",
       "    </tr>\n",
       "    <tr>\n",
       "      <th>51</th>\n",
       "      <td>180</td>\n",
       "      <td>23</td>\n",
       "      <td>38</td>\n",
       "      <td>-14</td>\n",
       "      <td>59</td>\n",
       "      <td>64.0</td>\n",
       "      <td>14</td>\n",
       "      <td>2</td>\n",
       "    </tr>\n",
       "    <tr>\n",
       "      <th>...</th>\n",
       "      <td>...</td>\n",
       "      <td>...</td>\n",
       "      <td>...</td>\n",
       "      <td>...</td>\n",
       "      <td>...</td>\n",
       "      <td>...</td>\n",
       "      <td>...</td>\n",
       "      <td>...</td>\n",
       "    </tr>\n",
       "    <tr>\n",
       "      <th>2873</th>\n",
       "      <td>65</td>\n",
       "      <td>33</td>\n",
       "      <td>45</td>\n",
       "      <td>-13</td>\n",
       "      <td>4</td>\n",
       "      <td>90.0</td>\n",
       "      <td>18</td>\n",
       "      <td>2</td>\n",
       "    </tr>\n",
       "    <tr>\n",
       "      <th>2874</th>\n",
       "      <td>65</td>\n",
       "      <td>33</td>\n",
       "      <td>45</td>\n",
       "      <td>-13</td>\n",
       "      <td>4</td>\n",
       "      <td>90.0</td>\n",
       "      <td>18</td>\n",
       "      <td>2</td>\n",
       "    </tr>\n",
       "    <tr>\n",
       "      <th>2875</th>\n",
       "      <td>65</td>\n",
       "      <td>33</td>\n",
       "      <td>45</td>\n",
       "      <td>-13</td>\n",
       "      <td>4</td>\n",
       "      <td>90.0</td>\n",
       "      <td>18</td>\n",
       "      <td>2</td>\n",
       "    </tr>\n",
       "    <tr>\n",
       "      <th>2876</th>\n",
       "      <td>65</td>\n",
       "      <td>33</td>\n",
       "      <td>45</td>\n",
       "      <td>-13</td>\n",
       "      <td>4</td>\n",
       "      <td>90.0</td>\n",
       "      <td>18</td>\n",
       "      <td>2</td>\n",
       "    </tr>\n",
       "    <tr>\n",
       "      <th>2877</th>\n",
       "      <td>65</td>\n",
       "      <td>33</td>\n",
       "      <td>45</td>\n",
       "      <td>-13</td>\n",
       "      <td>4</td>\n",
       "      <td>90.0</td>\n",
       "      <td>18</td>\n",
       "      <td>2</td>\n",
       "    </tr>\n",
       "  </tbody>\n",
       "</table>\n",
       "<p>540 rows × 8 columns</p>\n",
       "</div>"
      ],
      "text/plain": [
       "      bpm  energy  dance  loud  valence  lens  acoustic  stat\n",
       "47    180      23     38   -14       59  64.0        14     2\n",
       "48    180      23     38   -14       59  64.0        14     2\n",
       "49    180      23     38   -14       59  64.0        14     2\n",
       "50    180      23     38   -14       59  64.0        14     2\n",
       "51    180      23     38   -14       59  64.0        14     2\n",
       "...   ...     ...    ...   ...      ...   ...       ...   ...\n",
       "2873   65      33     45   -13        4  90.0        18     2\n",
       "2874   65      33     45   -13        4  90.0        18     2\n",
       "2875   65      33     45   -13        4  90.0        18     2\n",
       "2876   65      33     45   -13        4  90.0        18     2\n",
       "2877   65      33     45   -13        4  90.0        18     2\n",
       "\n",
       "[540 rows x 8 columns]"
      ]
     },
     "execution_count": 6,
     "metadata": {},
     "output_type": "execute_result"
    }
   ],
   "source": [
    "df[df.duplicated()]"
   ]
  },
  {
   "cell_type": "code",
   "execution_count": 7,
   "metadata": {},
   "outputs": [
    {
     "data": {
      "text/html": [
       "<div>\n",
       "<style scoped>\n",
       "    .dataframe tbody tr th:only-of-type {\n",
       "        vertical-align: middle;\n",
       "    }\n",
       "\n",
       "    .dataframe tbody tr th {\n",
       "        vertical-align: top;\n",
       "    }\n",
       "\n",
       "    .dataframe thead th {\n",
       "        text-align: right;\n",
       "    }\n",
       "</style>\n",
       "<table border=\"1\" class=\"dataframe\">\n",
       "  <thead>\n",
       "    <tr style=\"text-align: right;\">\n",
       "      <th></th>\n",
       "      <th>bpm</th>\n",
       "      <th>energy</th>\n",
       "      <th>dance</th>\n",
       "      <th>loud</th>\n",
       "      <th>valence</th>\n",
       "      <th>lens</th>\n",
       "      <th>acoustic</th>\n",
       "      <th>stat</th>\n",
       "    </tr>\n",
       "  </thead>\n",
       "  <tbody>\n",
       "    <tr>\n",
       "      <th>0</th>\n",
       "      <td>216</td>\n",
       "      <td>14</td>\n",
       "      <td>40</td>\n",
       "      <td>-13</td>\n",
       "      <td>18</td>\n",
       "      <td>141.0</td>\n",
       "      <td>80</td>\n",
       "      <td>2</td>\n",
       "    </tr>\n",
       "    <tr>\n",
       "      <th>1</th>\n",
       "      <td>206</td>\n",
       "      <td>89</td>\n",
       "      <td>38</td>\n",
       "      <td>-9</td>\n",
       "      <td>80</td>\n",
       "      <td>247.0</td>\n",
       "      <td>3</td>\n",
       "      <td>1</td>\n",
       "    </tr>\n",
       "    <tr>\n",
       "      <th>2</th>\n",
       "      <td>204</td>\n",
       "      <td>41</td>\n",
       "      <td>62</td>\n",
       "      <td>-12</td>\n",
       "      <td>74</td>\n",
       "      <td>252.0</td>\n",
       "      <td>68</td>\n",
       "      <td>1</td>\n",
       "    </tr>\n",
       "    <tr>\n",
       "      <th>3</th>\n",
       "      <td>204</td>\n",
       "      <td>47</td>\n",
       "      <td>24</td>\n",
       "      <td>-8</td>\n",
       "      <td>39</td>\n",
       "      <td>205.0</td>\n",
       "      <td>31</td>\n",
       "      <td>1</td>\n",
       "    </tr>\n",
       "    <tr>\n",
       "      <th>4</th>\n",
       "      <td>203</td>\n",
       "      <td>64</td>\n",
       "      <td>26</td>\n",
       "      <td>-10</td>\n",
       "      <td>38</td>\n",
       "      <td>281.0</td>\n",
       "      <td>20</td>\n",
       "      <td>1</td>\n",
       "    </tr>\n",
       "    <tr>\n",
       "      <th>...</th>\n",
       "      <td>...</td>\n",
       "      <td>...</td>\n",
       "      <td>...</td>\n",
       "      <td>...</td>\n",
       "      <td>...</td>\n",
       "      <td>...</td>\n",
       "      <td>...</td>\n",
       "      <td>...</td>\n",
       "    </tr>\n",
       "    <tr>\n",
       "      <th>2891</th>\n",
       "      <td>49</td>\n",
       "      <td>37</td>\n",
       "      <td>39</td>\n",
       "      <td>-11</td>\n",
       "      <td>51</td>\n",
       "      <td>293.0</td>\n",
       "      <td>21</td>\n",
       "      <td>1</td>\n",
       "    </tr>\n",
       "    <tr>\n",
       "      <th>2892</th>\n",
       "      <td>47</td>\n",
       "      <td>4</td>\n",
       "      <td>52</td>\n",
       "      <td>-16</td>\n",
       "      <td>82</td>\n",
       "      <td>92.0</td>\n",
       "      <td>88</td>\n",
       "      <td>2</td>\n",
       "    </tr>\n",
       "    <tr>\n",
       "      <th>2893</th>\n",
       "      <td>38</td>\n",
       "      <td>18</td>\n",
       "      <td>81</td>\n",
       "      <td>-12</td>\n",
       "      <td>47</td>\n",
       "      <td>100.0</td>\n",
       "      <td>16</td>\n",
       "      <td>2</td>\n",
       "    </tr>\n",
       "    <tr>\n",
       "      <th>2894</th>\n",
       "      <td>37</td>\n",
       "      <td>25</td>\n",
       "      <td>27</td>\n",
       "      <td>-12</td>\n",
       "      <td>13</td>\n",
       "      <td>207.0</td>\n",
       "      <td>80</td>\n",
       "      <td>1</td>\n",
       "    </tr>\n",
       "    <tr>\n",
       "      <th>2895</th>\n",
       "      <td>32</td>\n",
       "      <td>25</td>\n",
       "      <td>56</td>\n",
       "      <td>-10</td>\n",
       "      <td>45</td>\n",
       "      <td>136.0</td>\n",
       "      <td>46</td>\n",
       "      <td>2</td>\n",
       "    </tr>\n",
       "  </tbody>\n",
       "</table>\n",
       "<p>2356 rows × 8 columns</p>\n",
       "</div>"
      ],
      "text/plain": [
       "      bpm  energy  dance  loud  valence   lens  acoustic  stat\n",
       "0     216      14     40   -13       18  141.0        80     2\n",
       "1     206      89     38    -9       80  247.0         3     1\n",
       "2     204      41     62   -12       74  252.0        68     1\n",
       "3     204      47     24    -8       39  205.0        31     1\n",
       "4     203      64     26   -10       38  281.0        20     1\n",
       "...   ...     ...    ...   ...      ...    ...       ...   ...\n",
       "2891   49      37     39   -11       51  293.0        21     1\n",
       "2892   47       4     52   -16       82   92.0        88     2\n",
       "2893   38      18     81   -12       47  100.0        16     2\n",
       "2894   37      25     27   -12       13  207.0        80     1\n",
       "2895   32      25     56   -10       45  136.0        46     2\n",
       "\n",
       "[2356 rows x 8 columns]"
      ]
     },
     "execution_count": 7,
     "metadata": {},
     "output_type": "execute_result"
    }
   ],
   "source": [
    "df.drop_duplicates()"
   ]
  },
  {
   "cell_type": "code",
   "execution_count": 8,
   "metadata": {},
   "outputs": [],
   "source": [
    "from sklearn.model_selection import train_test_split\n",
    "df_train_full, df_test = train_test_split(df, test_size=0.2, random_state=11)\n",
    "df_train, df_val = train_test_split(df_train_full, test_size=0.25, random_state=11)"
   ]
  },
  {
   "cell_type": "code",
   "execution_count": 9,
   "metadata": {},
   "outputs": [
    {
     "data": {
      "text/plain": [
       "(1737, 579, 580)"
      ]
     },
     "execution_count": 9,
     "metadata": {},
     "output_type": "execute_result"
    }
   ],
   "source": [
    "len(df_train), len(df_val), len(df_test)"
   ]
  },
  {
   "cell_type": "code",
   "execution_count": 10,
   "metadata": {},
   "outputs": [],
   "source": [
    "y_train = (df_train.stat == 2).values\n",
    "y_val = (df_val.stat == 2).values"
   ]
  },
  {
   "cell_type": "code",
   "execution_count": 11,
   "metadata": {},
   "outputs": [],
   "source": [
    "del df_train['stat']\n",
    "del df_val['stat']"
   ]
  },
  {
   "cell_type": "code",
   "execution_count": 12,
   "metadata": {},
   "outputs": [
    {
     "name": "stderr",
     "output_type": "stream",
     "text": [
      "/home/petruso/ntbks/ENTER/lib/python3.8/site-packages/pandas/core/frame.py:1549: FutureWarning: Using short name for 'orient' is deprecated. Only the options: ('dict', list, 'series', 'split', 'records', 'index') will be used in a future version. Use one of the above to silence this warning.\n",
      "  warnings.warn(\n"
     ]
    }
   ],
   "source": [
    "dict_train = df_train.to_dict(orient='rows')\n",
    "dict_val = df_val.to_dict(orient='rows')"
   ]
  },
  {
   "cell_type": "code",
   "execution_count": 13,
   "metadata": {},
   "outputs": [],
   "source": [
    "from sklearn.feature_extraction import DictVectorizer\n",
    "dv = DictVectorizer(sparse=False)\n",
    "X_train = dv.fit_transform(dict_train)\n",
    "X_val = dv.transform(dict_val)"
   ]
  },
  {
   "cell_type": "code",
   "execution_count": 14,
   "metadata": {},
   "outputs": [
    {
     "data": {
      "text/plain": [
       "DecisionTreeClassifier()"
      ]
     },
     "execution_count": 14,
     "metadata": {},
     "output_type": "execute_result"
    }
   ],
   "source": [
    "from sklearn.tree import DecisionTreeClassifier\n",
    "dt = DecisionTreeClassifier()\n",
    "dt.fit(X_train, y_train)"
   ]
  },
  {
   "cell_type": "code",
   "execution_count": 15,
   "metadata": {},
   "outputs": [
    {
     "data": {
      "text/plain": [
       "1.0"
      ]
     },
     "execution_count": 15,
     "metadata": {},
     "output_type": "execute_result"
    }
   ],
   "source": [
    "from sklearn.metrics import roc_auc_score\n",
    "y_pred = dt.predict_proba(X_train)[:, 1]\n",
    "roc_auc_score(y_train, y_pred)"
   ]
  },
  {
   "cell_type": "code",
   "execution_count": 16,
   "metadata": {},
   "outputs": [
    {
     "data": {
      "text/plain": [
       "0.9485617092384818"
      ]
     },
     "execution_count": 16,
     "metadata": {},
     "output_type": "execute_result"
    }
   ],
   "source": [
    "y_pred = dt.predict_proba(X_val)[:, 1]\n",
    "roc_auc_score(y_val, y_pred)"
   ]
  },
  {
   "cell_type": "code",
   "execution_count": 17,
   "metadata": {},
   "outputs": [
    {
     "name": "stdout",
     "output_type": "stream",
     "text": [
      "   1 -> 0.926\n",
      "   2 -> 0.964\n",
      "   3 -> 0.972\n",
      "   4 -> 0.972\n",
      "   5 -> 0.969\n",
      "   6 -> 0.966\n",
      "  10 -> 0.962\n",
      "  15 -> 0.955\n",
      "  20 -> 0.957\n",
      "None -> 0.950\n"
     ]
    }
   ],
   "source": [
    "for depth in [1, 2, 3, 4, 5, 6, 10, 15, 20, None]:\n",
    "    dt = DecisionTreeClassifier(max_depth=depth)\n",
    "    dt.fit(X_train, y_train)\n",
    "    y_pred = dt.predict_proba(X_val)[:, 1]\n",
    "    auc = roc_auc_score(y_val, y_pred)\n",
    "    print('%4s -> %.3f' % (depth, auc))"
   ]
  },
  {
   "cell_type": "code",
   "execution_count": 18,
   "metadata": {},
   "outputs": [
    {
     "name": "stdout",
     "output_type": "stream",
     "text": [
      "depth: 3\n",
      "1 -> 0.972\n",
      "5 -> 0.972\n",
      "10 -> 0.973\n",
      "15 -> 0.979\n",
      "20 -> 0.979\n",
      "50 -> 0.982\n",
      "100 -> 0.979\n",
      "200 -> 0.979\n",
      "\n",
      "depth: 4\n",
      "1 -> 0.972\n",
      "5 -> 0.976\n",
      "10 -> 0.980\n",
      "15 -> 0.984\n",
      "20 -> 0.984\n",
      "50 -> 0.987\n",
      "100 -> 0.981\n",
      "200 -> 0.979\n",
      "\n",
      "depth: 5\n",
      "1 -> 0.966\n",
      "5 -> 0.976\n",
      "10 -> 0.982\n",
      "15 -> 0.986\n",
      "20 -> 0.986\n",
      "50 -> 0.987\n",
      "100 -> 0.981\n",
      "200 -> 0.979\n",
      "\n"
     ]
    }
   ],
   "source": [
    "for m in [3, 4, 5]:\n",
    "    print('depth: %s' % m)\n",
    "    for s in [1, 5, 10, 15, 20, 50, 100, 200]:\n",
    "        dt = DecisionTreeClassifier(max_depth=m, min_samples_leaf=s)\n",
    "        dt.fit(X_train, y_train)\n",
    "        y_pred = dt.predict_proba(X_val)[:, 1]\n",
    "        auc = roc_auc_score(y_val, y_pred)\n",
    "        print('%s -> %.3f' % (s, auc))\n",
    "        \n",
    "    print()"
   ]
  },
  {
   "cell_type": "code",
   "execution_count": 19,
   "metadata": {},
   "outputs": [
    {
     "data": {
      "text/plain": [
       "0.9870673191692529"
      ]
     },
     "execution_count": 19,
     "metadata": {},
     "output_type": "execute_result"
    }
   ],
   "source": [
    "dt = DecisionTreeClassifier(max_depth=5, min_samples_leaf=50)\n",
    "dt.fit(X_train, y_train)\n",
    "y_pred = dt.predict_proba(X_val)[:, 1]\n",
    "roc_auc_score(y_val, y_pred)"
   ]
  },
  {
   "cell_type": "code",
   "execution_count": 20,
   "metadata": {},
   "outputs": [
    {
     "data": {
      "text/plain": [
       "0.9965385533540224"
      ]
     },
     "execution_count": 20,
     "metadata": {},
     "output_type": "execute_result"
    }
   ],
   "source": [
    "from sklearn.ensemble import RandomForestClassifier\n",
    "rf = RandomForestClassifier(n_estimators=10, random_state=3)\n",
    "rf.fit(X_train, y_train)\n",
    "y_pred = rf.predict_proba(X_val)[:, 1]\n",
    "roc_auc_score(y_val, y_pred)"
   ]
  },
  {
   "cell_type": "code",
   "execution_count": 21,
   "metadata": {},
   "outputs": [
    {
     "name": "stdout",
     "output_type": "stream",
     "text": [
      "depth: 5\n",
      "10 -> 0.997\n",
      "20 -> 0.997\n",
      "30 -> 0.997\n",
      "40 -> 0.997\n",
      "50 -> 0.997\n",
      "60 -> 0.997\n",
      "70 -> 0.997\n",
      "80 -> 0.997\n",
      "90 -> 0.997\n",
      "100 -> 0.997\n",
      "110 -> 0.997\n",
      "120 -> 0.997\n",
      "130 -> 0.997\n",
      "140 -> 0.997\n",
      "150 -> 0.997\n",
      "160 -> 0.997\n",
      "170 -> 0.997\n",
      "180 -> 0.997\n",
      "190 -> 0.997\n",
      "200 -> 0.997\n",
      "\n",
      "depth: 10\n",
      "10 -> 0.996\n",
      "20 -> 0.997\n",
      "30 -> 0.997\n",
      "40 -> 0.997\n",
      "50 -> 0.997\n",
      "60 -> 0.998\n",
      "70 -> 0.998\n",
      "80 -> 0.997\n",
      "90 -> 0.997\n",
      "100 -> 0.997\n",
      "110 -> 0.997\n",
      "120 -> 0.997\n",
      "130 -> 0.997\n",
      "140 -> 0.997\n",
      "150 -> 0.997\n",
      "160 -> 0.998\n",
      "170 -> 0.997\n",
      "180 -> 0.997\n",
      "190 -> 0.998\n",
      "200 -> 0.998\n",
      "\n",
      "depth: 20\n",
      "10 -> 0.994\n",
      "20 -> 0.996\n",
      "30 -> 0.996\n",
      "40 -> 0.997\n",
      "50 -> 0.997\n",
      "60 -> 0.997\n",
      "70 -> 0.997\n",
      "80 -> 0.997\n",
      "90 -> 0.997\n",
      "100 -> 0.997\n",
      "110 -> 0.997\n",
      "120 -> 0.997\n",
      "130 -> 0.997\n",
      "140 -> 0.997\n",
      "150 -> 0.997\n",
      "160 -> 0.998\n",
      "170 -> 0.997\n",
      "180 -> 0.997\n",
      "190 -> 0.997\n",
      "200 -> 0.997\n",
      "\n"
     ]
    },
    {
     "data": {
      "text/plain": [
       "<matplotlib.legend.Legend at 0x7f5d9a314970>"
      ]
     },
     "execution_count": 21,
     "metadata": {},
     "output_type": "execute_result"
    },
    {
     "data": {
      "image/png": "[encoded data removed]",
      "text/plain": [
       "<Figure size 432x288 with 1 Axes>"
      ]
     },
     "metadata": {
      "needs_background": "light"
     },
     "output_type": "display_data"
    }
   ],
   "source": [
    "all_aucs = {} #A\n",
    "for depth in [5, 10, 20]: #B\n",
    "    print('depth: %s' % depth)\n",
    "    aucs = [] #C\n",
    "    for i in range(10, 201, 10): #C\n",
    "        rf = RandomForestClassifier(n_estimators=i, max_depth=depth, random_state=1) #D\n",
    "        rf.fit(X_train, y_train)\n",
    "        y_pred = rf.predict_proba(X_val)[:, 1]\n",
    "        auc = roc_auc_score(y_val, y_pred) #E\n",
    "        print('%s -> %.3f' % (i, auc)) #E\n",
    "        aucs.append(auc) #E\n",
    "    all_aucs[depth]=aucs #F\n",
    "    print()\n",
    "    \n",
    "num_trees = list(range(10, 201, 10))\n",
    "plt.plot(num_trees, all_aucs[5], label='depth=5')\n",
    "plt.plot(num_trees, all_aucs[10], label='depth=10')\n",
    "plt.plot(num_trees, all_aucs[20], label='depth=20')\n",
    "plt.legend()"
   ]
  },
  {
   "cell_type": "code",
   "execution_count": 22,
   "metadata": {},
   "outputs": [
    {
     "name": "stdout",
     "output_type": "stream",
     "text": [
      "min_samples_leaf: 5\n",
      "10 -> 0.997\n",
      "20 -> 0.997\n",
      "30 -> 0.997\n",
      "40 -> 0.997\n",
      "50 -> 0.997\n",
      "60 -> 0.997\n",
      "70 -> 0.997\n",
      "80 -> 0.997\n",
      "90 -> 0.997\n",
      "100 -> 0.997\n",
      "110 -> 0.997\n",
      "120 -> 0.997\n",
      "130 -> 0.997\n",
      "140 -> 0.997\n",
      "150 -> 0.997\n",
      "160 -> 0.997\n",
      "170 -> 0.997\n",
      "180 -> 0.997\n",
      "190 -> 0.997\n",
      "200 -> 0.997\n",
      "\n",
      "min_samples_leaf: 10\n",
      "10 -> 0.996\n",
      "20 -> 0.997\n",
      "30 -> 0.997\n",
      "40 -> 0.997\n",
      "50 -> 0.997\n",
      "60 -> 0.997\n",
      "70 -> 0.997\n",
      "80 -> 0.997\n",
      "90 -> 0.997\n",
      "100 -> 0.997\n",
      "110 -> 0.997\n",
      "120 -> 0.997\n",
      "130 -> 0.997\n",
      "140 -> 0.997\n",
      "150 -> 0.997\n",
      "160 -> 0.997\n",
      "170 -> 0.997\n",
      "180 -> 0.997\n",
      "190 -> 0.997\n",
      "200 -> 0.997\n",
      "\n",
      "min_samples_leaf: 20\n",
      "10 -> 0.995\n",
      "20 -> 0.995\n",
      "30 -> 0.996\n",
      "40 -> 0.996\n",
      "50 -> 0.996\n",
      "60 -> 0.996\n",
      "70 -> 0.996\n",
      "80 -> 0.996\n",
      "90 -> 0.996\n",
      "100 -> 0.996\n",
      "110 -> 0.996\n",
      "120 -> 0.996\n",
      "130 -> 0.996\n",
      "140 -> 0.996\n",
      "150 -> 0.996\n",
      "160 -> 0.996\n",
      "170 -> 0.996\n",
      "180 -> 0.996\n",
      "190 -> 0.996\n",
      "200 -> 0.996\n",
      "\n",
      "min_samples_leaf: 50\n",
      "10 -> 0.991\n",
      "20 -> 0.993\n",
      "30 -> 0.994\n",
      "40 -> 0.994\n",
      "50 -> 0.995\n",
      "60 -> 0.995\n",
      "70 -> 0.995\n",
      "80 -> 0.995\n",
      "90 -> 0.995\n",
      "100 -> 0.995\n",
      "110 -> 0.995\n",
      "120 -> 0.995\n",
      "130 -> 0.995\n",
      "140 -> 0.994\n",
      "150 -> 0.995\n",
      "160 -> 0.995\n",
      "170 -> 0.995\n",
      "180 -> 0.995\n",
      "190 -> 0.995\n",
      "200 -> 0.995\n",
      "\n"
     ]
    },
    {
     "data": {
      "text/plain": [
       "<matplotlib.legend.Legend at 0x7f5d9a27b970>"
      ]
     },
     "execution_count": 22,
     "metadata": {},
     "output_type": "execute_result"
    },
    {
     "data": {
      "image/png": "[encoded data removed]",
      "text/plain": [
       "<Figure size 432x288 with 1 Axes>"
      ]
     },
     "metadata": {
      "needs_background": "light"
     },
     "output_type": "display_data"
    }
   ],
   "source": [
    "all_aucs = {}\n",
    "for m in [5, 10, 20, 50]:\n",
    "    print('min_samples_leaf: %s' % m)\n",
    "    aucs = []\n",
    "    for i in range(10, 201, 10):\n",
    "        rf = RandomForestClassifier(n_estimators=i, max_depth=10, min_samples_leaf=m,\n",
    "        random_state=1)\n",
    "        rf.fit(X_train, y_train)\n",
    "        y_pred = rf.predict_proba(X_val)[:, 1]\n",
    "        auc = roc_auc_score(y_val, y_pred)\n",
    "        print('%s -> %.3f' % (i, auc))\n",
    "        aucs.append(auc)\n",
    "    all_aucs[m] = aucs\n",
    "    print()\n",
    "    \n",
    "num_trees = list(range(10, 201, 10))\n",
    "plt.plot(num_trees, all_aucs[5], label='min_samples_leaf=5')\n",
    "plt.plot(num_trees, all_aucs[10], label='min_samples_leaf=10')\n",
    "plt.plot(num_trees, all_aucs[20], label='min_samples_leaf=20')\n",
    "plt.plot(num_trees, all_aucs[50], label='min_samples_leaf=50')\n",
    "plt.legend()"
   ]
  },
  {
   "cell_type": "code",
   "execution_count": 23,
   "metadata": {},
   "outputs": [
    {
     "data": {
      "text/plain": [
       "0.997302458820721"
      ]
     },
     "execution_count": 23,
     "metadata": {},
     "output_type": "execute_result"
    }
   ],
   "source": [
    "rf = RandomForestClassifier(n_estimators=200, max_depth=10, min_samples_leaf=5,\n",
    "random_state=1) \n",
    "rf.fit(X_train, y_train)\n",
    "y_pred = rf.predict_proba(X_val)[:, 1]\n",
    "roc_auc_score(y_val, y_pred)"
   ]
  },
  {
   "cell_type": "code",
   "execution_count": 24,
   "metadata": {},
   "outputs": [],
   "source": [
    "def predict_single(samp, dv, rf): #A\n",
    "    X = dv.transform([samp]) #B\n",
    "    y_pred = rf.predict_proba(X)[0, 1] #C\n",
    "    return y_pred"
   ]
  },
  {
   "cell_type": "code",
   "execution_count": 30,
   "metadata": {},
   "outputs": [
    {
     "data": {
      "text/plain": [
       "0.9789646145242827"
      ]
     },
     "execution_count": 30,
     "metadata": {},
     "output_type": "execute_result"
    }
   ],
   "source": [
    "\n",
    "import spotipy\n",
    "from spotipy.oauth2 import SpotifyClientCredentials\n",
    "\n",
    "sp = spotipy.Spotify(auth_manager=SpotifyClientCredentials( client_id=  \"9f133c4fea4142498c182dc76383ce4d\",\n",
    "                                                           client_secret= \"84511eaa3a0c4ef6aaf6350ec8ff4d1b\"))\n",
    "\n",
    "sid='https://open.spotify.com/track/3uQ33vLHvYhUC5EJvd4RuK?si=81f648ad01974497'\n",
    "tracks=[sid]\n",
    "\n",
    "def track_info(tracks) :\n",
    "        audio_features = sp.audio_features(tracks)[0]\n",
    "        samp={\n",
    "        'bpm':  round(audio_features['tempo']),\n",
    "        'energy': round(audio_features['energy']*100),\n",
    "        'dance': round(audio_features['danceability']*100),\n",
    "        'loud': round(audio_features['loudness']),\n",
    "        'valence':  round(audio_features['valence']*100),\n",
    "        'lens': round(audio_features['duration_ms']/1000), \n",
    "        'acoustic':round(audio_features['acousticness']*100)\n",
    "        }\n",
    "        return samp\n",
    "\n",
    "samp={}\n",
    "samp=track_info(tracks)\n",
    "samp\n",
    "predict_single(samp, dv, rf)\n"
   ]
  },
  {
   "cell_type": "code",
   "execution_count": 32,
   "metadata": {},
   "outputs": [],
   "source": [
    "import pickle\n",
    "with open('lofi.bin', 'wb') as f_out: \n",
    "    pickle.dump((dv, rf), f_out) \n",
    "    \n",
    "with open('lofi.bin', 'rb') as f_in:\n",
    "    dv, rf = pickle.load(f_in) "
   ]
  },
  {
   "cell_type": "code",
   "execution_count": null,
   "metadata": {},
   "outputs": [],
   "source": []
  }
 ],
 "metadata": {
  "kernelspec": {
   "display_name": "Python 3",
   "language": "python",
   "name": "python3"
  },
  "language_info": {
   "codemirror_mode": {
    "name": "ipython",
    "version": 3
   },
   "file_extension": ".py",
   "mimetype": "text/x-python",
   "name": "python",
   "nbconvert_exporter": "python",
   "pygments_lexer": "ipython3",
   "version": "3.8.5"
  }
 },
 "nbformat": 4,
 "nbformat_minor": 5
}
